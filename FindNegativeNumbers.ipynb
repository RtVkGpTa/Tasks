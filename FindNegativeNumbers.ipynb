{
 "cells": [
  {
   "cell_type": "markdown",
   "metadata": {},
   "source": [
    "# Task 2 find negative values\n",
    "\n",
    "Given a list of integer numbers, look for a negative number in the list. Consider an appropriate number of qubits and explain why your proposal is valid for all kinds of numbers in case \n",
    "\n",
    "\n",
    "def find_negative_numbers(list[int]:list_number):\n",
    "     “””\n",
    "list_number : integer list!.\n",
    "Return the True or False depends of the input\n",
    "     “””\n",
    "\n",
    "     # use a framework that works with quantum circuits, qiskit, cirq, pennylane, etc. \n",
    "\n",
    "\n",
    "      # consider print your quantum circuit,\n",
    "\n",
    "\n",
    "Example:\n",
    "\n",
    "A = find_negative_numbers([1,-3,2,15])\n",
    "print(A)\n",
    "\n",
    "“True”\n",
    "\n",
    "\n",
    "B = find_negative_numbers([1,4,8,11])\n",
    "print(B)\n",
    "\n",
    "“False”\n",
    "\n",
    "\n",
    "B = find_negative_numbers([-15,-14,2,-1])\n",
    "print(B)\n",
    "\n",
    "“True”\n"
   ]
  },
  {
   "cell_type": "markdown",
   "metadata": {},
   "source": [
    "## Imports"
   ]
  },
  {
   "cell_type": "code",
   "execution_count": 2,
   "metadata": {},
   "outputs": [],
   "source": [
    "from math import ceil, log\n",
    "from qiskit import QuantumRegister, ClassicalRegister, QuantumCircuit, BasicAer, execute\n",
    "from qiskit.visualization import plot_bloch_multivector, array_to_latex\n",
    "from qiskit.quantum_info import Statevector\n",
    "from qiskit.quantum_info.operators import Operator\n",
    "from qiskit.circuit.library.standard_gates import CXGate, MCXGate\n",
    "import numpy as np"
   ]
  },
  {
   "cell_type": "markdown",
   "metadata": {},
   "source": [
    "## Solution Overview \n",
    "\n",
    "The challenge for this particular problem is in solving it on a Quantum Computer. On its own, the problem is solved easily by checking for each elements of the array one by one. However, when solving on a quantum computer, there are a couple challenges. \n",
    "\n",
    "1. Encoding the elements in the array into the qubits\n",
    "2. Determining whether an integer, encoded in the qubits, is negative\n",
    "\n",
    "\n",
    "Each of these challenges and their solutions have been described below the respective functions which resolve them.\n",
    "\n"
   ]
  },
  {
   "cell_type": "markdown",
   "metadata": {},
   "source": [
    "### 1. Encoding the Elements  \n",
    "\n",
    "Encoding the elements in the array implies that corresponding to each element in the array, its binary encoded string should be output equally likely on measurement of the encoding qubits, without any processing on them. \n",
    "\n",
    "Here two sets of qubits are used. The first set is used to encode the indices of the array, and the second set is used to encode the actual integer elements of the array. \n",
    "\n",
    "Corresponding to each element's bit string a controlled gate is generated which can encode the bit string onto the qubits. The control for the respective gates is set as the bit string encoding the index, which is encoded the first set of registers. \n",
    "Each of the index encoding registers is in an equal superposition, hence the probability of an index being selected among the other indices is equal, thus implying that each element in the array has the same probability.\n",
    "\n",
    "This functionality is implemented by the 'load_inputs' function below"
   ]
  },
  {
   "cell_type": "code",
   "execution_count": 3,
   "metadata": {},
   "outputs": [],
   "source": [
    "def load_inputs(m, n, vector, vectorbit):  \n",
    "    a=QuantumRegister(n, 'a')                               # address\n",
    "    d=QuantumRegister(m, 'd')                               # data\n",
    "    c = ClassicalRegister(1, 'c')\n",
    "    qc=QuantumCircuit(a, d, c)\n",
    "    qc.h(a)                                 # An algorthm to load the given classical data into the ∣d⟩ (data) quibits\n",
    "    for i in range(len(vector)):\n",
    "        gate_dict={'0': 'I', '1': 'X'}\n",
    "        gate_name = '-'.join([gate_dict[b] for b in vectorbit[i]])\n",
    "        gate_name = '|{}⟩: '.format(vector[i]) + gate_name\n",
    "        circ = QuantumCircuit(m, name=gate_name)\n",
    "        for j in range(m):\n",
    "            if vectorbit[i][j]=='1':\n",
    "                circ.x(j)\n",
    "        \n",
    "        # multi-x gate\n",
    "        mx_gate = circ.to_gate()\n",
    "\n",
    "        # multi-polarity multi-control multi-x gate\n",
    "        mpmcmx_gate = mx_gate.control(n, ctrl_state='{0:0{size}b}'.format(i, size=n)[::-1])\n",
    "        qc.append(mpmcmx_gate, range(m+n))\n",
    "    \n",
    "    qc.measure(d[0], c)\n",
    "\n",
    "    return qc"
   ]
  },
  {
   "cell_type": "markdown",
   "metadata": {},
   "source": [
    "### 2. Determine Negative Elements in Encoded Qubits \n",
    "\n",
    "To determine whether the integer which has been encoded is negative or not, requires a workaround when encoding the elements. The workaround used here is that if an integer can be encoded in its 2's complement representation, the MSB (Most Significant Bit) can be measured to determine whether the encoded integer is positive or negative. In case of a negative integer, the MSB is always 1, whereas for a positive integer it will be 0. This has been coded into the function itself. \n",
    "\n",
    "Inside the function (\"find_negative_numbers\" below) when it is encoding a number, firstly it determines the number of qubits for encoding the integers (m) by adding 1 to the length of the bitstring for the maximum or minimum value of the array. (In case when negative integers are present, length of the bitstring can be greater than that of other elements in the array). When 2's complement of each integer is computed w.r.t (2**m - 1), the resulting bitstring is always such that there is a 1 in the MSB, if the integer is negative. \n",
    "\n",
    "Now, as this is a distinguishing factor, this can be made use of by the function to return whether the array contains a negative integer or not. To do so, we just have to measure the MSB over 1000 shots of the circuit execution, and observe whether the result counts have a '1' or not. If '1' is present, the function returns True, implying the array contains a negative integer , else it returns False."
   ]
  },
  {
   "cell_type": "code",
   "execution_count": 4,
   "metadata": {},
   "outputs": [],
   "source": [
    "def find_negative_numbers(vector):\n",
    "    # n = mimimum number of quibits required to store the addresses of the input\n",
    "    n=ceil(log(len(vector), 2))\n",
    "\n",
    "    vector=np.asarray(vector, dtype=int)\n",
    "    \n",
    "    # m = minimum number of bits required to store the largest number in the input,\n",
    "    # m is also the minimum number of qubits required to store all the numbers in the input\n",
    "    m=max([len('{0:b}'.format(max(vector))), len('{0:b}'.format(np.min(vector)))]) + 1\n",
    "\n",
    "    vectorbit=[]\n",
    "    for num in vector:\n",
    "        \n",
    "        bin_num = bin(num & (2**m - 1)).replace('0b', '')\n",
    "        bin_num = '0'*(m - len(bin_num)) + bin_num\n",
    "        vectorbit.append(bin_num)\n",
    "\n",
    "    qc = load_inputs(m, n, vector, vectorbit)\n",
    "    backend = BasicAer.get_backend('qasm_simulator')\n",
    "\n",
    "    counts = execute(qc, backend, shots= 1000).result().get_counts()\n",
    "    if '1' in counts.keys():\n",
    "        return True\n",
    "    else: \n",
    "        return False\n",
    "    "
   ]
  },
  {
   "cell_type": "markdown",
   "metadata": {},
   "source": [
    "## Test Cases"
   ]
  },
  {
   "cell_type": "code",
   "execution_count": 5,
   "metadata": {},
   "outputs": [],
   "source": [
    "# declare test cases\n",
    "test_cases = []\n",
    "test_cases.append([10, 5, -20, 63, 22]) #case 1\n",
    "test_cases.append([1,-3,2,15]) #case 2\n",
    "test_cases.append([1,4,8,11]) #case 3\n",
    "test_cases.append([-15,-14,2,-1]) #case 4"
   ]
  },
  {
   "cell_type": "code",
   "execution_count": 31,
   "metadata": {},
   "outputs": [
    {
     "name": "stdout",
     "output_type": "stream",
     "text": [
      "True\n",
      "True\n",
      "False\n",
      "True\n"
     ]
    }
   ],
   "source": [
    "for i in test_cases:\n",
    "    print(find_negative_numbers(i))"
   ]
  },
  {
   "cell_type": "markdown",
   "metadata": {},
   "source": [
    "## Circuit \n",
    "\n",
    "The circuit for test case 1 is as below"
   ]
  },
  {
   "cell_type": "markdown",
   "metadata": {},
   "source": [
    "![Alt text](QOSF_Screening_FindNegativeNumbers_circuit.png)"
   ]
  }
 ],
 "metadata": {
  "kernelspec": {
   "display_name": "Python 3",
   "language": "python",
   "name": "python3"
  },
  "language_info": {
   "codemirror_mode": {
    "name": "ipython",
    "version": 3
   },
   "file_extension": ".py",
   "mimetype": "text/x-python",
   "name": "python",
   "nbconvert_exporter": "python",
   "pygments_lexer": "ipython3",
   "version": "3.10.11"
  },
  "orig_nbformat": 4
 },
 "nbformat": 4,
 "nbformat_minor": 2
}
